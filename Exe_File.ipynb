{
  "cells": [
    {
      "cell_type": "markdown",
      "id": "54a4231e",
      "metadata": {
        "id": "54a4231e"
      },
      "source": [
        "<h1>Library<h1>"
      ]
    },
    {
      "cell_type": "code",
      "execution_count": null,
      "id": "3037e1c0",
      "metadata": {
        "id": "3037e1c0"
      },
      "outputs": [],
      "source": [
        "from tkinter import *\n",
        "import numpy as np\n",
        "import tweepy\n",
        "import pandas as pd\n",
        "from textblob import TextBlob\n",
        "from wordcloud import WordCloud\n",
        "import seaborn as sns\n",
        "import matplotlib.pyplot as plt\n",
        "from matplotlib.backends.backend_tkagg import FigureCanvasTkAgg\n",
        "from matplotlib.figure import Figure\n",
        "import re"
      ]
    },
    {
      "cell_type": "markdown",
      "id": "f409adc6",
      "metadata": {
        "id": "f409adc6"
      },
      "source": [
        "-------------------------------------------------------------------------------------------------------------------------------"
      ]
    },
    {
      "cell_type": "code",
      "execution_count": null,
      "id": "7a1ad0c3",
      "metadata": {
        "scrolled": false,
        "id": "7a1ad0c3",
        "outputId": "4782ecb0-ffe3-4498-d4a8-c45338c21945"
      },
      "outputs": [
        {
          "data": {
            "text/plain": [
              "''"
            ]
          },
          "execution_count": 31,
          "metadata": {},
          "output_type": "execute_result"
        }
      ],
      "source": [
        "root = Tk()\n",
        "root.title(\"Twitter Sentiment Analysis (minor project)\")"
      ]
    },
    {
      "cell_type": "markdown",
      "id": "30f4828e",
      "metadata": {
        "id": "30f4828e"
      },
      "source": [
        "<h4>Gui Size<h4>"
      ]
    },
    {
      "cell_type": "code",
      "execution_count": null,
      "id": "b52f23bf",
      "metadata": {
        "colab": {
          "base_uri": "https://localhost:8080/"
        },
        "id": "b52f23bf",
        "outputId": "a07c1199-aa29-4305-cda4-ac6b7b74b31d"
      },
      "outputs": [
        {
          "output_type": "error",
          "ename": "NameError",
          "evalue": "ignored",
          "traceback": [
            "\u001b[0;31m---------------------------------------------------------------------------\u001b[0m",
            "\u001b[0;31mNameError\u001b[0m                                 Traceback (most recent call last)",
            "\u001b[0;32m<ipython-input-2-0345344721d6>\u001b[0m in \u001b[0;36m<module>\u001b[0;34m\u001b[0m\n\u001b[1;32m      2\u001b[0m \u001b[0mheight\u001b[0m\u001b[0;34m=\u001b[0m\u001b[0;36m400\u001b[0m\u001b[0;34m\u001b[0m\u001b[0;34m\u001b[0m\u001b[0m\n\u001b[1;32m      3\u001b[0m \u001b[0;34m\u001b[0m\u001b[0m\n\u001b[0;32m----> 4\u001b[0;31m \u001b[0mroot\u001b[0m\u001b[0;34m.\u001b[0m\u001b[0mgeometry\u001b[0m\u001b[0;34m(\u001b[0m\u001b[0;34mF\"{width}x{height}\"\u001b[0m\u001b[0;34m)\u001b[0m\u001b[0;34m\u001b[0m\u001b[0;34m\u001b[0m\u001b[0m\n\u001b[0m\u001b[1;32m      5\u001b[0m \u001b[0mroot\u001b[0m\u001b[0;34m.\u001b[0m\u001b[0mminsize\u001b[0m\u001b[0;34m(\u001b[0m\u001b[0mwidth\u001b[0m\u001b[0;34m,\u001b[0m\u001b[0mheight\u001b[0m\u001b[0;34m)\u001b[0m\u001b[0;34m\u001b[0m\u001b[0;34m\u001b[0m\u001b[0m\n\u001b[1;32m      6\u001b[0m \u001b[0mroot\u001b[0m\u001b[0;34m.\u001b[0m\u001b[0mmaxsize\u001b[0m\u001b[0;34m(\u001b[0m\u001b[0mwidth\u001b[0m\u001b[0;34m,\u001b[0m\u001b[0mheight\u001b[0m\u001b[0;34m)\u001b[0m\u001b[0;34m\u001b[0m\u001b[0;34m\u001b[0m\u001b[0m\n",
            "\u001b[0;31mNameError\u001b[0m: name 'root' is not defined"
          ]
        }
      ],
      "source": [
        "width=600\n",
        "height=400\n",
        "\n",
        "root.geometry(F\"{width}x{height}\")\n",
        "root.minsize(width,height)\n",
        "root.maxsize(width,height)"
      ]
    },
    {
      "cell_type": "markdown",
      "id": "fe62b984",
      "metadata": {
        "id": "fe62b984"
      },
      "source": [
        "<h4>Banner Part<h4>"
      ]
    },
    {
      "cell_type": "code",
      "execution_count": null,
      "id": "f13eaf15",
      "metadata": {
        "id": "f13eaf15"
      },
      "outputs": [],
      "source": [
        "banner=Frame(root,padx=15,pady=14,bg=\"Red\")\n",
        "banner.pack()\n",
        "\n",
        "heading=Label(banner,text=\"Twitter Sentiment Analysis\",font=\"comicsans 20 bold\")\n",
        "heading.pack()"
      ]
    },
    {
      "cell_type": "markdown",
      "id": "2111f55e",
      "metadata": {
        "id": "2111f55e"
      },
      "source": [
        "<h4>User Input Part<h4>"
      ]
    },
    {
      "cell_type": "code",
      "execution_count": null,
      "id": "0a88e476",
      "metadata": {
        "id": "0a88e476"
      },
      "outputs": [],
      "source": [
        "input_frame = Frame(root,padx=0,pady=30)\n",
        "input_frame.pack(anchor=\"w\")\n",
        "\n",
        "input_frame1 = Frame(root,padx=0,pady=0)\n",
        "input_frame1.pack()\n",
        "\n",
        "username = Label(input_frame, text=\"Enter UserID without @ :- \",justify=LEFT,font=\"comicsansms 10 bold\", padx=60)\n",
        "username.grid(row=2, column=2)\n",
        "\n",
        "user_value = StringVar()\n",
        "hash_value = StringVar()\n",
        "\n",
        "userinput = Entry(input_frame, textvariable=user_value)\n",
        "userinput.grid(row=2, column=4)\n",
        "\n",
        "blank2 = Label(input_frame, text=\"OR\")\n",
        "blank2.grid(row=3, column=4)\n",
        "\n",
        "hashtag = Label(input_frame, text=\"Enter Hash Tag without # :- \",font=\"comicsansms 10 bold\", padx=60)\n",
        "hashtag.grid(row=4, column=2)\n",
        "\n",
        "hashinput = Entry(input_frame, textvariable=hash_value)\n",
        "hashinput.grid(row=4, column=4)\n",
        "\n"
      ]
    },
    {
      "cell_type": "markdown",
      "id": "e4f06e4d",
      "metadata": {
        "id": "e4f06e4d"
      },
      "source": [
        "<h4>Sentiment Part<h4>"
      ]
    },
    {
      "cell_type": "code",
      "execution_count": null,
      "id": "7ec0c958",
      "metadata": {
        "id": "7ec0c958"
      },
      "outputs": [],
      "source": [
        "f1 = Frame(root,padx=15,pady=14)\n",
        "f1.pack()\n",
        "\n",
        "f2 = Frame(root,padx=15,pady=14)\n",
        "f2.pack(anchor=\"w\")\n",
        "error = Label(f1, text=\"Please enter any one\", fg=\"red\")\n",
        "error2 = Label(f1, text=\"Both entry not valid\", fg=\"red\")"
      ]
    },
    {
      "cell_type": "code",
      "execution_count": null,
      "id": "8b97a74f",
      "metadata": {
        "id": "8b97a74f"
      },
      "outputs": [],
      "source": [
        "po = Label(f2, text=\"Positive:-\",padx=15)\n",
        "na = Label(f2, text=\"Negative:-\",pady=5,padx=15)\n",
        "nt = Label(f2, text=\"Neutral:-\",padx=15)\n",
        "\n",
        "def click():\n",
        "    global positive_per\n",
        "    global negative_per\n",
        "    global neutral_per\n",
        "    user_name = user_value.get()\n",
        "    hash_name = hash_value.get()\n",
        "    #################################################################\n",
        "    consumerKey = \"k4eGcidYdu7mOGxgoFBsT987E\"\n",
        "    consumerSecret = \"IOTkMKO54tvYEfxzsDptbU5J67e9XIJu5ZENe8K9CDxt8BG0YI\"\n",
        "    accessToken = \"800656855898783744-KwxRt17dgvst5gUzcv6TKUebbnrRKx4\"\n",
        "    accessTokenSecret = \"ripEleHwDeIfuwxgTbBLDT3FvA4Dc0nbsjzr7eWRMB3xJ\"\n",
        "    ##################################################################\n",
        "    authenticate = tweepy.OAuthHandler(consumerKey, consumerSecret)\n",
        "    authenticate.set_access_token(accessToken, accessTokenSecret)\n",
        "    api = tweepy.API(authenticate, wait_on_rate_limit = True) # api object\n",
        "\n",
        "    if user_name == \"\" and hash_name == \"\":\n",
        "        error.grid()\n",
        "    elif hash_name == \"\":\n",
        "        error.grid_remove()\n",
        "        global number\n",
        "        if number > 1:\n",
        "            po.grid_remove()\n",
        "            na.grid_remove()\n",
        "            nt.grid_remove()\n",
        "\n",
        "        post = api.user_timeline(screen_name=user_name, count = 500, lang =\"en\", tweet_mode=\"extended\")\n",
        "        twitter = pd.DataFrame([tweet.full_text for tweet in post], columns=['Tweets'])\n",
        "        def cleanTxt(text):\n",
        "            text = re.sub('@[A-Za-z0–9]+', '', text) #Removing @mentions\n",
        "            text = re.sub('#', '', text) # Removing '#' hash tag\n",
        "            text = re.sub('RT[\\s]+', '', text) # Removing RT\n",
        "            text = re.sub('https?:\\/\\/\\S+', '', text) # Removing hyperlink\n",
        "            return text\n",
        "        twitter['Tweets'] = twitter['Tweets'].apply(cleanTxt)\n",
        "        def getSubjectivity(text):\n",
        "            return TextBlob(text).sentiment.subjectivity\n",
        "        def getPolarity(text):\n",
        "            return TextBlob(text).sentiment.polarity\n",
        "        twitter['Subjectivity'] = twitter['Tweets'].apply(getSubjectivity)\n",
        "        twitter['Polarity'] = twitter['Tweets'].apply(getPolarity)\n",
        "        ##########\n",
        "        def getAnalysis(score):\n",
        "            if score < 0:\n",
        "                return 'Negative'\n",
        "            elif score == 0:\n",
        "                return 'Neutral'\n",
        "            else:\n",
        "                return 'Positive'\n",
        "        ###############\n",
        "        twitter['Analysis'] = twitter['Polarity'].apply(getAnalysis)\n",
        "        positive = twitter.loc[twitter['Analysis'].str.contains('Positive')]\n",
        "        negative = twitter.loc[twitter['Analysis'].str.contains('Negative')]\n",
        "        neutral = twitter.loc[twitter['Analysis'].str.contains('Neutral')]\n",
        "\n",
        "        positive_per = round((positive.shape[0]/twitter.shape[0])*100, 1)\n",
        "        negative_per = round((negative.shape[0]/twitter.shape[0])*100, 1)\n",
        "        neutral_per = round((neutral.shape[0]/twitter.shape[0])*100, 1)\n",
        "\n",
        "        po = Label(f2, text=f\"Positive:- {positive_per}%\",padx=15).grid(row=1, column=8)\n",
        "        na = Label(f2, text=f\"Negative:- {negative_per}%\",pady=5,padx=15).grid(row=2, column=8)\n",
        "        nt = Label(f2, text=f\"Neutral:- {neutral_per}%\",padx=15).grid(row=3, column=8)\n",
        "\n",
        "        number += 1\n",
        "\n",
        "    elif user_name == \"\":\n",
        "        error.grid_remove()\n",
        "        if number > 1:\n",
        "            po.grid_remove()\n",
        "            na.grid_remove()\n",
        "            nt.grid_remove()\n",
        "\n",
        "        msgs = []\n",
        "        msg =[]\n",
        "        for tweet in tweepy.Cursor(api.search_tweets, q=hash_name).items(500):\n",
        "            msg = [tweet.text]\n",
        "            msg = tuple(msg)\n",
        "            msgs.append(msg)\n",
        "        def cleanTxt(text):\n",
        "            text = re.sub('@[A-Za-z0–9]+', '', text) #Removing @mentions\n",
        "            text = re.sub('#', '', text) # Removing '#' hash tag\n",
        "            text = re.sub('RT[\\s]+', '', text) # Removing RT\n",
        "            text = re.sub('https?:\\/\\/\\S+', '', text) # Removing hyperlink\n",
        "            return text\n",
        "        df = pd.DataFrame(msgs)\n",
        "        dfpr = Label(f2, text=f\"First 5 tweets :-  \\n {df.head().to_string(index=False,header=False,line_width=30)}%\",padx=10).grid(row=1, column=1)\n",
        "        #########################################################################################\n",
        "        df['Tweets'] = df[0].apply(cleanTxt)\n",
        "        df.drop(0, axis=1, inplace=True)\n",
        "        def getSubjectivity(text):\n",
        "            return TextBlob(text).sentiment.subjectivity\n",
        "        def getPolarity(text):\n",
        "            return TextBlob(text).sentiment.polarity\n",
        "        df['Subjectivity'] = df['Tweets'].apply(getSubjectivity)\n",
        "        df['Polarity'] = df['Tweets'].apply(getPolarity)\n",
        "        def getAnalysis(score):\n",
        "            if score < 0:\n",
        "                return 'Negative'\n",
        "            elif score == 0:\n",
        "                return 'Neutral'\n",
        "            else:\n",
        "                return 'Positive'\n",
        "        df['Analysis'] = df['Polarity'].apply(getAnalysis)\n",
        "        positive = df.loc[df['Analysis'].str.contains('Positive')]\n",
        "        negative = df.loc[df['Analysis'].str.contains('Negative')]\n",
        "        neutral = df.loc[df['Analysis'].str.contains('Neutral')]\n",
        "\n",
        "        positive_per = round((positive.shape[0]/df.shape[0])*100, 1) #p\n",
        "        negative_per = round((negative.shape[0]/df.shape[0])*100, 1) #n\n",
        "        neutral_per = round((neutral.shape[0]/df.shape[0])*100, 1)  #neutral\n",
        "\n",
        "        po = Label(f2, text=f\"Positive:- {positive_per}%\",padx=15).grid(row=2, column=1)\n",
        "        na = Label(f2, text=f\"Negative:- {negative_per}%\",pady=5,padx=15).grid(row=3, column=1)\n",
        "        nt = Label(f2, text=f\"Neutral:- {neutral_per}%\",padx=15).grid(row=4, column=1)\n",
        "\n",
        "        number +=1\n",
        "    else:\n",
        "        error2.grid()"
      ]
    },
    {
      "cell_type": "code",
      "execution_count": null,
      "id": "4b824e10",
      "metadata": {
        "id": "4b824e10"
      },
      "outputs": [],
      "source": [
        "def create_charts():\n",
        "    global pie2\n",
        "    global count\n",
        "    if count==1:\n",
        "        return None\n",
        "    count=1\n",
        "    figure2 = Figure(figsize=(4,3), dpi=100)\n",
        "    subplot2 = figure2.add_subplot(111)\n",
        "    labels2 = 'Positive', 'Negative', 'Neutral'\n",
        "    pieSizes = [float(positive_per),float(negative_per),float(neutral_per)]\n",
        "    my_colors2 = ['lightGreen','Red','Blue']\n",
        "    explode2 = (0.5, 0.3, 0.3)\n",
        "    subplot2.pie(pieSizes, colors=my_colors2, explode=explode2, labels=labels2, autopct='%1.1f%%', shadow=True, startangle=90)\n",
        "    subplot2.axis('equal')\n",
        "    pie2 = FigureCanvasTkAgg(figure2, root)\n",
        "    pie2.get_tk_widget().pack()\n",
        "\n",
        "def clear_charts():\n",
        "    global pie2\n",
        "    global count\n",
        "    count=0\n",
        "    pie2.get_tk_widget().pack_forget()\n",
        "count=0\n",
        "number=0\n",
        "\n",
        "button = Button(input_frame1,text=\"Get Analysis\", command=click, fg=\"blue\",height = 1, width = 15)\n",
        "button.grid(row=1, column=1)\n",
        "button1 =Button(input_frame1, text='  Show Charts  ', command=create_charts, fg='green', height=1, width = 15)\n",
        "button1.grid(row=1,column=3)\n",
        "button2 =Button (input_frame1, text='  Clear Charts  ', command=clear_charts, fg='Red', height=1,width=15)\n",
        "button2.grid(row=1,column=5)\n",
        "button3=Button(input_frame1, text ='Exit application', command=root.destroy, fg='Red', height=1,width=30)\n",
        "button3.grid(row=30,column=3)\n",
        "root.mainloop()\n"
      ]
    },
    {
      "cell_type": "code",
      "execution_count": null,
      "id": "b2adb5f0",
      "metadata": {
        "id": "b2adb5f0"
      },
      "outputs": [],
      "source": []
    },
    {
      "cell_type": "code",
      "execution_count": null,
      "id": "f76919d9",
      "metadata": {
        "id": "f76919d9"
      },
      "outputs": [],
      "source": []
    },
    {
      "cell_type": "code",
      "execution_count": null,
      "id": "21320b57",
      "metadata": {
        "id": "21320b57"
      },
      "outputs": [],
      "source": []
    },
    {
      "cell_type": "code",
      "execution_count": null,
      "id": "c8eb71d3",
      "metadata": {
        "id": "c8eb71d3"
      },
      "outputs": [],
      "source": []
    },
    {
      "cell_type": "code",
      "execution_count": null,
      "id": "58260d45",
      "metadata": {
        "id": "58260d45"
      },
      "outputs": [],
      "source": []
    },
    {
      "cell_type": "code",
      "execution_count": null,
      "id": "88ea412a",
      "metadata": {
        "id": "88ea412a"
      },
      "outputs": [],
      "source": []
    },
    {
      "cell_type": "code",
      "execution_count": null,
      "id": "40590223",
      "metadata": {
        "id": "40590223"
      },
      "outputs": [],
      "source": [
        "\n"
      ]
    },
    {
      "cell_type": "code",
      "execution_count": null,
      "id": "f8510730",
      "metadata": {
        "id": "f8510730"
      },
      "outputs": [],
      "source": []
    },
    {
      "cell_type": "code",
      "execution_count": null,
      "id": "0da0ac05",
      "metadata": {
        "id": "0da0ac05"
      },
      "outputs": [],
      "source": []
    }
  ],
  "metadata": {
    "kernelspec": {
      "display_name": "Python 3 (ipykernel)",
      "language": "python",
      "name": "python3"
    },
    "language_info": {
      "codemirror_mode": {
        "name": "ipython",
        "version": 3
      },
      "file_extension": ".py",
      "mimetype": "text/x-python",
      "name": "python",
      "nbconvert_exporter": "python",
      "pygments_lexer": "ipython3",
      "version": "3.9.7"
    },
    "colab": {
      "provenance": []
    }
  },
  "nbformat": 4,
  "nbformat_minor": 5
}